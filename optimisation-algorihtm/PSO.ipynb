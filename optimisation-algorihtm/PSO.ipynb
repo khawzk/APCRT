{
  "nbformat": 4,
  "nbformat_minor": 0,
  "metadata": {
    "colab": {
      "provenance": []
    },
    "kernelspec": {
      "name": "python3",
      "display_name": "Python 3"
    },
    "language_info": {
      "name": "python"
    }
  },
  "cells": [
    {
      "cell_type": "code",
      "source": [
        "import random\n",
        "import numpy as np\n",
        "from optimizationalgorithm import *\n",
        "from optimizationalgorithm import node\n",
        "from optimizationalgorithm import Graph\n",
        "from optimizationalgorithm import AStar"
      ],
      "metadata": {
        "id": "DCf_-BW_gu2j",
        "colab": {
          "base_uri": "https://localhost:8080/",
          "height": 373
        },
        "outputId": "60c9899e-38f6-40c3-e88b-331887aaf179"
      },
      "execution_count": null,
      "outputs": [
        {
          "output_type": "error",
          "ename": "ModuleNotFoundError",
          "evalue": "ignored",
          "traceback": [
            "\u001b[0;31m---------------------------------------------------------------------------\u001b[0m",
            "\u001b[0;31mModuleNotFoundError\u001b[0m                       Traceback (most recent call last)",
            "\u001b[0;32m<ipython-input-4-6528e75b79c1>\u001b[0m in \u001b[0;36m<module>\u001b[0;34m\u001b[0m\n\u001b[1;32m      1\u001b[0m \u001b[0;32mimport\u001b[0m \u001b[0mrandom\u001b[0m\u001b[0;34m\u001b[0m\u001b[0;34m\u001b[0m\u001b[0m\n\u001b[1;32m      2\u001b[0m \u001b[0;32mimport\u001b[0m \u001b[0mnumpy\u001b[0m \u001b[0;32mas\u001b[0m \u001b[0mnp\u001b[0m\u001b[0;34m\u001b[0m\u001b[0;34m\u001b[0m\u001b[0m\n\u001b[0;32m----> 3\u001b[0;31m \u001b[0;32mfrom\u001b[0m \u001b[0moptimizationalgorithm\u001b[0m \u001b[0;32mimport\u001b[0m \u001b[0;34m*\u001b[0m\u001b[0;34m\u001b[0m\u001b[0;34m\u001b[0m\u001b[0m\n\u001b[0m\u001b[1;32m      4\u001b[0m \u001b[0;32mfrom\u001b[0m \u001b[0moptimizationalgorithm\u001b[0m \u001b[0;32mimport\u001b[0m \u001b[0mnode\u001b[0m\u001b[0;34m\u001b[0m\u001b[0;34m\u001b[0m\u001b[0m\n\u001b[1;32m      5\u001b[0m \u001b[0;32mfrom\u001b[0m \u001b[0moptimizationalgorithm\u001b[0m \u001b[0;32mimport\u001b[0m \u001b[0mGraph\u001b[0m\u001b[0;34m\u001b[0m\u001b[0;34m\u001b[0m\u001b[0m\n",
            "\u001b[0;31mModuleNotFoundError\u001b[0m: No module named 'optimizationalgorithm'",
            "",
            "\u001b[0;31m---------------------------------------------------------------------------\u001b[0;32m\nNOTE: If your import is failing due to a missing package, you can\nmanually install dependencies using either !pip or !apt.\n\nTo view examples of installing some common dependencies, click the\n\"Open Examples\" button below.\n\u001b[0;31m---------------------------------------------------------------------------\u001b[0m\n"
          ],
          "errorDetails": {
            "actions": [
              {
                "action": "open_url",
                "actionText": "Open Examples",
                "url": "/notebooks/snippets/importing_libraries.ipynb"
              }
            ]
          }
        }
      ]
    },
    {
      "cell_type": "code",
      "source": [
        "# def settingup():\n",
        "# # Create graph\n",
        "#     graph = Graph()\n",
        "#     # Add vertices\n",
        "#     graph.add_node(node('S', (1,1),direction=\"up\"))\n",
        "#     graph.add_node(node('B', (1,2)))\n",
        "#     graph.add_node(node('C', (1,4)))\n",
        "#     graph.add_node(node('D', (2,1)))\n",
        "#     graph.add_node(node('E', (2,2)))\n",
        "#     graph.add_node(node('F', (2,3)))\n",
        "#     graph.add_node(node('G', (2,4)))\n",
        "#     graph.add_node(node('H', (3,1)))\n",
        "#     graph.add_node(node('I', (3,4)))\n",
        "#     graph.add_node(node('J', (4,1)))\n",
        "#     graph.add_node(node('K', (4,2)))\n",
        "#     graph.add_node(node('T', (4,3)))\n",
        "#     graph.add_node(node('L', (4,4)))\n",
        "#     graph.add_node(node('M', (3,2)))\n",
        "    \n",
        "#     # Add edges\n",
        "#     graph.add_edge('S', 'B', 1)\n",
        "#     graph.add_edge('S', 'D', 1)\n",
        "#     graph.add_edge('B', 'E', 1)\n",
        "#     graph.add_edge('C', 'G', 1)\n",
        "#     graph.add_edge('D', 'E', 1)\n",
        "#     graph.add_edge('D', 'H', 1)\n",
        "#     graph.add_edge('E', 'F', 1)\n",
        "#     graph.add_edge('F', 'G', 1)\n",
        "#     graph.add_edge('G', 'I', 1)\n",
        "#     graph.add_edge('H', 'J', 1)\n",
        "#     graph.add_edge('I', 'L', 1)\n",
        "#     graph.add_edge('J', 'K', 1)\n",
        "#     graph.add_edge('K', 'T', 1)\n",
        "#     graph.add_edge('T', 'L', 1)\n",
        "#     graph.add_edge('H', 'M', 1)\n",
        "#     graph.add_edge('E', 'M', 1)\n",
        "#     graph.add_edge('M', 'K', 1)\n",
        "#     return graph"
      ],
      "metadata": {
        "id": "IghnDQnRpsfV"
      },
      "execution_count": null,
      "outputs": []
    },
    {
      "cell_type": "code",
      "source": [
        "def fitness_function(x1,x2):\n",
        "    # Create graph\n",
        "    graph=settingup()\n",
        "    # Execute the algorithm\n",
        "    startnode=graph.find_node('S')\n",
        "    valuelist=['S','B','C','D','E','F','G','M','H','I','J','K','T','L']\n",
        "    openlist=[]\n",
        "    for x in valuelist:\n",
        "      openlist.append(graph.find_node(x))\n",
        "    A=createpathlist(startnode,openlist,x1,x2,graph)\n",
        "    commandlist=listtorder(A,graph,valuelist)\n",
        "    distance=calculatedistance(commandlist)\n",
        "    return distance"
      ],
      "metadata": {
        "id": "x5Xy0uq0gtK4"
      },
      "execution_count": null,
      "outputs": []
    },
    {
      "cell_type": "code",
      "execution_count": null,
      "metadata": {
        "id": "skOtBzDdgNi3"
      },
      "outputs": [],
      "source": [
        "def update_velocity(particle, velocity, pbest, gbest, w_min=0.5, max=1.0, c=0.1):\n",
        "  # Initialise new velocity array\n",
        "  num_particle = len(particle)\n",
        "  new_velocity = np.array([0.0 for i in range(num_particle)])\n",
        "  # Randomly generate r1, r2 and inertia weight from normal distribution\n",
        "  r1 = random.uniform(0,max)\n",
        "  r2 = random.uniform(0,max)\n",
        "  w = random.uniform(w_min,max)\n",
        "  c1 = c\n",
        "  c2 = c\n",
        "  # Calculate new velocity\n",
        "  for i in range(num_particle):\n",
        "    new_velocity[i] = w*velocity[i] + c1*r1*(pbest[i]-particle[i])+c2*r2*(gbest[i]-particle[i])\n",
        "  return new_velocity"
      ]
    },
    {
      "cell_type": "markdown",
      "source": [
        "# 新段落"
      ],
      "metadata": {
        "id": "BCdYvf4nrU_4"
      }
    },
    {
      "cell_type": "code",
      "source": [
        "def update_position(particle, velocity):\n",
        "  # Move particles by adding velocity\n",
        "  new_particle = particle + velocity\n",
        "  return new_particle"
      ],
      "metadata": {
        "id": "wb9_sIGXgwgu"
      },
      "execution_count": null,
      "outputs": []
    },
    {
      "cell_type": "code",
      "source": [
        "def pso_2d(population, dimension, position_min, position_max, generation, fitness_criterion):\n",
        "  # Initialisation\n",
        "  # Population\n",
        "  particles = [[random.uniform(position_min, position_max) for j in range(dimension)] for i in range(population)]\n",
        "  # Particle's best position\n",
        "  pbest_position = particles\n",
        "  # Fitness\n",
        "  pbest_fitness = [fitness_function(p[0],p[1]) for p in particles]\n",
        "  # Index of the best particle\n",
        "  gbest_index = np.argmin(pbest_fitness)\n",
        "  # Global best particle position\n",
        "  gbest_position = pbest_position[gbest_index]\n",
        "  # Velocity (starting from 0 speed)\n",
        "  velocity = [[0.0 for j in range(dimension)] for i in range(population)]\n",
        "  \n",
        "  # Loop for the number of generation\n",
        "  for t in range(generation):\n",
        "    # Stop if the average fitness value reached a predefined success criterion\n",
        "    if np.average(pbest_fitness) <= fitness_criterion:\n",
        "      break\n",
        "    else:\n",
        "      for n in range(population):\n",
        "        # Update the velocity of each particle\n",
        "        velocity[n] = update_velocity(particles[n], velocity[n], pbest_position[n], gbest_position)\n",
        "        # Move the particles to new position\n",
        "        particles[n] = update_position(particles[n], velocity[n])\n",
        "    # Calculate the fitness value\n",
        "    pbest_fitness= [fitness_function(p[0],p[1]) for p in particles]\n",
        "    # Find the index of the best particle\n",
        "    gbest_index = np.argmin(pbest_fitness)\n",
        "    # Update the position of the best particle\n",
        "    gbest_position = pbest_position[gbest_index]\n",
        "\n",
        "\n",
        "  # Print the results\n",
        "  print('Global Best Position: ', gbest_position)\n",
        "  print('Best Fitness Value: ', min(pbest_fitness))\n",
        "  print('Average Particle Best Fitness Value: ', np.average(pbest_fitness))\n",
        "  print('Number of Generation: ', t)\n",
        "  return gbest_position\n"
      ],
      "metadata": {
        "id": "6cNPT39Mg5kP"
      },
      "execution_count": null,
      "outputs": []
    },
    {
      "cell_type": "code",
      "source": [
        "#获得指示\n",
        "def commandlistoutput():\n",
        "  population = 100\n",
        "  dimension = 2\n",
        "  position_min = -100.0\n",
        "  position_max = 100.0\n",
        "  generation = 20\n",
        "  fitness_criterion = 10e-4\n",
        "  gbest_position=pso_2d(population,dimension,position_min,position_max,generation,fitness_criterion)\n",
        "  graph=settingup()\n",
        "  # Execute the algorithm\n",
        "  startnode=graph.find_node('S')\n",
        "  valuelist=['S','B','C','D','E','F','G','M','H','I','J','K','T','L']\n",
        "  openlist=[]\n",
        "  for x in valuelist:\n",
        "    openlist.append(graph.find_node(x))\n",
        "  A=createpathlist(startnode,openlist,gbest_position[0],gbest_position[1],graph)\n",
        "  #这个是最后的指示集\n",
        "  commandlist=listtorder(A,graph,valuelist)\n",
        "  return commandlist,A"
      ],
      "metadata": {
        "id": "0gqnKXvDhnV-"
      },
      "execution_count": null,
      "outputs": []
    },
    {
      "cell_type": "code",
      "source": [
        "print(commandlistoutput())"
      ],
      "metadata": {
        "id": "xb9SyMXZht1k"
      },
      "execution_count": null,
      "outputs": []
    },
    {
      "cell_type": "code",
      "source": [],
      "metadata": {
        "id": "-mFLIMwyiaMM"
      },
      "execution_count": null,
      "outputs": []
    }
  ]
}